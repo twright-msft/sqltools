{
    "metadata": {
        "kernelspec": {
            "name": "SQL",
            "display_name": "SQL",
            "language": "sql"
        },
        "language_info": {
            "name": "sql",
            "version": ""
        }
    },
    "nbformat_minor": 2,
    "nbformat": 4,
    "cells": [
        {
            "cell_type": "markdown",
            "source": "Use these SQL snippets to create the external data sources for the SQL data pool and storage pool in a user database in a SQL Server big data cluster master.\r\n\r\nNOTE: be sure to change the database name in the USE statement first.",
            "metadata": {}
        },
        {
            "cell_type": "code",
            "source": "-- Set the db name here first\r\nUSE set_db_name_here_first\r\nGO\r\n\r\nIF NOT EXISTS(SELECT * FROM sys.external_data_sources WHERE name = 'SqlDataPool')\r\n  CREATE EXTERNAL DATA SOURCE SqlDataPool\r\n  WITH (LOCATION = 'sqldatapool://service-mssql-controller:8080/datapools/default');\r\n\r\nIF NOT EXISTS(SELECT * FROM sys.external_data_sources WHERE name = 'SqlStoragePool')\r\n  CREATE EXTERNAL DATA SOURCE SqlStoragePool\r\n  WITH (LOCATION = 'sqlhdfs://service-mssql-controller:8080');\r\nGO\r\n",
            "metadata": {},
            "outputs": [],
            "execution_count": 1
        },
        {
            "cell_type": "code",
            "source": "SELECT * FROM sys.external_data_sources",
            "metadata": {},
            "outputs": []
        }
    ]
}}